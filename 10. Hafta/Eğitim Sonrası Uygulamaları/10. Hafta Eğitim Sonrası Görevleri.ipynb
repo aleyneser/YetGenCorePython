{
 "cells": [
  {
   "attachments": {},
   "cell_type": "markdown",
   "metadata": {},
   "source": [
    "# Problem 1 "
   ]
  },
  {
   "cell_type": "code",
   "execution_count": 4,
   "metadata": {},
   "outputs": [
    {
     "name": "stdout",
     "output_type": "stream",
     "text": [
      "Orijinal array: [90 86 63 33 92]\n",
      "Sıralanmış array: [33 63 86 90 92]\n"
     ]
    }
   ],
   "source": [
    "# 1 - numpy kütüphanesini import edin\n",
    "import numpy as np\n",
    "\n",
    "# 2 - 5 elemanlı bir numpy array oluşturun\n",
    "array = np.random.randint(0, 100, 5)\n",
    "print(\"Orijinal array:\", array)\n",
    "\n",
    "# 3 - Oluşturduğunuz arrayi küçükten büyüğe sıralayın\n",
    "sorted_array = np.sort(array)\n",
    "print(\"Sıralanmış array:\", sorted_array)\n"
   ]
  },
  {
   "attachments": {},
   "cell_type": "markdown",
   "metadata": {},
   "source": [
    "# Problem 2"
   ]
  },
  {
   "cell_type": "code",
   "execution_count": 7,
   "metadata": {},
   "outputs": [
    {
     "name": "stdout",
     "output_type": "stream",
     "text": [
      "Array 1:  [10 15 30 45 60]\n",
      "Array 2:  [ 5  6  7  8  9 10 11 12 13 14 15]\n",
      "Array 3:  [ 50  55  60  65  70  75  80  85  90  95 100]\n",
      "Array 4:  [0. 0. 0. 0. 0. 0. 0. 0. 0. 0.]\n",
      "Array 5:  [1. 1. 1. 1. 1. 1. 1. 1. 1. 1.]\n",
      "Array 6:  [  0.  25.  50.  75. 100.]\n",
      "Array 7:  [21 28 10 13 12]\n",
      "Array 8:  [-1.         -0.77777778 -0.55555556 -0.33333333 -0.11111111  0.11111111\n",
      "  0.33333333  0.55555556  0.77777778  1.        ]\n",
      "Matrix:\n",
      "  [[13 34 30 22 40]\n",
      " [22 44 33 46 42]\n",
      " [14 13 44 46 26]]\n",
      "Satır toplamları:  [139 187 143]\n",
      "Sütun toplamları:  [ 49  91 107 114 108]\n",
      "En büyük değer:  46\n",
      "En küçük değer:  13\n",
      "Ortalama:  31.266666666666666\n",
      "En büyük değerin indeksi:  (np.int64(1), np.int64(3))\n",
      "Array 13:  [10 11 12]\n",
      "Array 13 ters:  [20 19 18 17 16 15 14 13 12 11 10]\n",
      "Matrisin ilk satırı:  [13 34 30 22 40]\n",
      "Matrisin 2. satır 3. sütundaki elemanı:  33\n",
      "Matrisin tüm satırlardaki ilk elemanı:  [13 22 14]\n",
      "Matrisin kareleri:\n",
      "  [[ 169 1156  900  484 1600]\n",
      " [ 484 1936 1089 2116 1764]\n",
      " [ 196  169 1936 2116  676]]\n",
      "Geniş aralık matris:\n",
      "  [[  4  39  37  -8  25]\n",
      " [-40 -11   5  15  41]\n",
      " [ 38  30 -35  22  25]]\n",
      "Pozitif çift sayılar:  [ 4 38 30 22]\n"
     ]
    }
   ],
   "source": [
    "import numpy as np\n",
    "\n",
    "# 1- (10,15,30,45,60) değerlerine sahip numpy dizisi oluşturunuz.\n",
    "array1 = np.array([10, 15, 30, 45, 60])\n",
    "print(\"Array 1: \", array1)\n",
    "\n",
    "# 2- (5-15) arasındaki sayılarla numpy dizisi oluşturunuz.\n",
    "array2 = np.arange(5, 16)\n",
    "print(\"Array 2: \", array2)\n",
    "\n",
    "# 3- (50-100) arasında 5'er 5'er artarak numpy dizisi oluşturunuz.\n",
    "array3 = np.arange(50, 101, 5)\n",
    "print(\"Array 3: \", array3)\n",
    "\n",
    "# 4- 10 elemanlı sıfırlardan oluşan bir dizi oluşturunuz.\n",
    "array4 = np.zeros(10)\n",
    "print(\"Array 4: \", array4)\n",
    "\n",
    "# 5- 10 elemanlı birlerden oluşan bir dizi oluşturunuz.\n",
    "array5 = np.ones(10)\n",
    "print(\"Array 5: \", array5)\n",
    "\n",
    "# 6- (0-100) arasında eşit aralıklı 5 sayı üretin.\n",
    "array6 = np.linspace(0, 100, 5)\n",
    "print(\"Array 6: \", array6)\n",
    "\n",
    "# 7- (10-30) arasında rastgele 5 tane tamsayı üretin.\n",
    "array7 = np.random.randint(10, 31, 5)\n",
    "print(\"Array 7: \", array7)\n",
    "\n",
    "# 8- [-1 ile 1] arasında 10 adet sayı üretin.\n",
    "array8 = np.linspace(-1, 1, 10)\n",
    "print(\"Array 8: \", array8)\n",
    "\n",
    "# 9- (3x5) boyutlarında (10-50) arasında rastgele bir matris oluşturunuz.\n",
    "matrix = np.random.randint(10, 51, size=(3, 5))\n",
    "print(\"Matrix:\\n \", matrix)\n",
    "\n",
    "# 10- Üretilen matrisin satır ve sütun sayıları toplamlarını hesaplayınız.\n",
    "satir_toplamlari = np.sum(matrix, axis=1)\n",
    "sutun_toplamlari = np.sum(matrix, axis=0)\n",
    "print(\"Satır toplamları: \", satir_toplamlari)\n",
    "print(\"Sütun toplamları: \", sutun_toplamlari)\n",
    "\n",
    "# 11- Üretilen matrisin en büyük, en küçük ve ortalaması nedir?\n",
    "en_buyuk = np.max(matrix)\n",
    "en_kucuk = np.min(matrix)\n",
    "ortalama = np.mean(matrix)\n",
    "print(\"En büyük değer: \", en_buyuk)\n",
    "print(\"En küçük değer: \", en_kucuk)\n",
    "print(\"Ortalama: \", ortalama)\n",
    "\n",
    "# 12- Üretilen matrisin en büyük değerinin indeksi kaçtır?\n",
    "en_buyuk_indeks = np.unravel_index(np.argmax(matrix), matrix.shape)\n",
    "print(\"En büyük değerin indeksi: \", en_buyuk_indeks)\n",
    "\n",
    "# 13- (10-20) arasındaki sayıları içeren dizinin ilk 3 elemanını seçiniz.\n",
    "array13 = np.arange(10, 21)\n",
    "print(\"Array 13: \", array13[:3])\n",
    "\n",
    "# 14- Üretilen dizinin elemanlarını tersten yazdırın.\n",
    "print(\"Array 13 ters: \", array13[::-1])\n",
    "\n",
    "# 15- Üretilen matrisin ilk satırını seçiniz.\n",
    "print(\"Matrisin ilk satırı: \", matrix[0])\n",
    "\n",
    "# 16- Üretilen matrisin 2. satır 3. sütundaki elemanı hangisidir?\n",
    "print(\"Matrisin 2. satır 3. sütundaki elemanı: \", matrix[1, 2])\n",
    "\n",
    "# 17- Üretilen matrisin tüm satırlardaki ilk elemanı seçiniz.\n",
    "print(\"Matrisin tüm satırlardaki ilk elemanı: \", matrix[:, 0])\n",
    "\n",
    "# 18- Üretilen matrisin her bir elemanının karesini alınız.\n",
    "matrix_karesi = np.square(matrix)\n",
    "print(\"Matrisin kareleri:\\n \", matrix_karesi)\n",
    "\n",
    "# 19- Üretilen matris elemanlarının hangisi pozitif çift sayıdır? Aralığı (-50,+50) arasında yapınız.\n",
    "matrix_genis = np.random.randint(-50, 51, size=(3, 5))\n",
    "print(\"Geniş aralık matris:\\n \", matrix_genis)\n",
    "pozitif_ciftler = matrix_genis[(matrix_genis > 0) & (matrix_genis % 2 == 0)]\n",
    "print(\"Pozitif çift sayılar: \", pozitif_ciftler)\n"
   ]
  }
 ],
 "metadata": {
  "kernelspec": {
   "display_name": "Python 3",
   "language": "python",
   "name": "python3"
  },
  "language_info": {
   "codemirror_mode": {
    "name": "ipython",
    "version": 3
   },
   "file_extension": ".py",
   "mimetype": "text/x-python",
   "name": "python",
   "nbconvert_exporter": "python",
   "pygments_lexer": "ipython3",
   "version": "3.12.3"
  },
  "orig_nbformat": 4,
  "vscode": {
   "interpreter": {
    "hash": "5026d2d6e7aaaaba093def813beadff083d8733e4a511af01735cbabd156995d"
   }
  }
 },
 "nbformat": 4,
 "nbformat_minor": 2
}
