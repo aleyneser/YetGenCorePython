{
 "cells": [
  {
   "attachments": {},
   "cell_type": "markdown",
   "metadata": {},
   "source": [
    "# Problem 1"
   ]
  },
  {
   "cell_type": "code",
   "execution_count": 1,
   "metadata": {},
   "outputs": [
    {
     "name": "stdout",
     "output_type": "stream",
     "text": [
      "Matris: [5 4 3 7 6]\n",
      "Matrisin boyutu: (5,)\n",
      "Yeniden boyutlandırılmış matris:\n",
      "[[5 4 3 7 6]]\n",
      "Yeniden boyutlandırılmış matrisin boyut sayısı: 2\n"
     ]
    }
   ],
   "source": [
    "# 1 - numpy kütüphanesini import edin\n",
    "import numpy as np\n",
    "\n",
    "# 2 - 0 ile 10 arasında 5 sayıdan oluşan matris üretin\n",
    "matris = np.random.randint(0, 10, size=5)\n",
    "print(\"Matris:\", matris)\n",
    "\n",
    "# 3 - matris'in boyutunu öğrenin\n",
    "boyut = matris.shape\n",
    "print(\"Matrisin boyutu:\", boyut)\n",
    "\n",
    "# 4 - matris'i yeniden boyutlandırın\n",
    "yeni_matris = matris.reshape(1, 5)\n",
    "print(\"Yeniden boyutlandırılmış matris:\")\n",
    "print(yeni_matris)\n",
    "\n",
    "# 5 - matris'in boyut sayısını öğrenin\n",
    "boyut_sayisi = yeni_matris.ndim\n",
    "print(\"Yeniden boyutlandırılmış matrisin boyut sayısı:\", boyut_sayisi)\n",
    "\n"
   ]
  },
  {
   "attachments": {},
   "cell_type": "markdown",
   "metadata": {},
   "source": [
    "# Problem 2"
   ]
  },
  {
   "cell_type": "code",
   "execution_count": 1,
   "metadata": {},
   "outputs": [
    {
     "name": "stdout",
     "output_type": "stream",
     "text": [
      "Orijinal matris: [1 3 5 7 9]\n",
      "Parça 1: [1 3 5]\n",
      "Parça 2: [7 9]\n",
      "Birleşmiş matris: [1 3 5 7 9]\n"
     ]
    }
   ],
   "source": [
    "import numpy as np\n",
    "\n",
    "# 1 - 0 ile 10 arasında bulunan tek sayılardan oluşan matris üretin\n",
    "matris = np.array([1, 3, 5, 7, 9])\n",
    "print(\"Orijinal matris:\", matris)\n",
    "\n",
    "# 2 - Oluşturduğunuz matrisi parçalayın\n",
    "# Örneğin, matrisi iki parçaya ayıralım\n",
    "parca1, parca2 = np.split(matris, [3])\n",
    "print(\"Parça 1:\", parca1)\n",
    "print(\"Parça 2:\", parca2)\n",
    "\n",
    "# 3 - Parçalanmış matrisleri birleştirin\n",
    "birlesmis_matris = np.concatenate((parca1, parca2))\n",
    "print(\"Birleşmiş matris:\", birlesmis_matris)\n"
   ]
  },
  {
   "attachments": {},
   "cell_type": "markdown",
   "metadata": {},
   "source": [
    "# Problem 3"
   ]
  },
  {
   "cell_type": "code",
   "execution_count": 3,
   "metadata": {},
   "outputs": [
    {
     "name": "stdout",
     "output_type": "stream",
     "text": [
      "Rastgele 10 sayıdan oluşan matris: [89 37 39 43 51 31 29 25 33 81]\n",
      "Matrisin boyutu: (10,)\n",
      "Matrisin boyut sayısı: 1\n",
      "Matrisin eleman sayısı: 10\n",
      "Matrisin ortalaması: 45.8\n",
      "Matrisin standart sapması: 20.88444397153058\n"
     ]
    }
   ],
   "source": [
    "import numpy as np\n",
    "\n",
    "# 1 - 5 ile 100 arasında ikişer ikişer atlayarak rastgele 10 sayıdan oluşan matris üretin\n",
    "aralik = np.arange(5, 101, 2)\n",
    "matris = np.random.choice(aralik, 10, replace=False)\n",
    "print(\"Rastgele 10 sayıdan oluşan matris:\", matris)\n",
    "\n",
    "# 2 - matris'in özelliklerini inceleyin\n",
    "boyut = matris.shape\n",
    "boyut_sayisi = matris.ndim\n",
    "eleman_sayisi = matris.size\n",
    "ortalama = np.mean(matris)\n",
    "standart_sapma = np.std(matris)\n",
    "\n",
    "print(\"Matrisin boyutu:\", boyut)\n",
    "print(\"Matrisin boyut sayısı:\", boyut_sayisi)\n",
    "print(\"Matrisin eleman sayısı:\", eleman_sayisi)\n",
    "print(\"Matrisin ortalaması:\", ortalama)\n",
    "print(\"Matrisin standart sapması:\", standart_sapma)\n"
   ]
  }
 ],
 "metadata": {
  "kernelspec": {
   "display_name": "Python 3",
   "language": "python",
   "name": "python3"
  },
  "language_info": {
   "codemirror_mode": {
    "name": "ipython",
    "version": 3
   },
   "file_extension": ".py",
   "mimetype": "text/x-python",
   "name": "python",
   "nbconvert_exporter": "python",
   "pygments_lexer": "ipython3",
   "version": "3.12.3"
  },
  "orig_nbformat": 4,
  "vscode": {
   "interpreter": {
    "hash": "5026d2d6e7aaaaba093def813beadff083d8733e4a511af01735cbabd156995d"
   }
  }
 },
 "nbformat": 4,
 "nbformat_minor": 2
}
