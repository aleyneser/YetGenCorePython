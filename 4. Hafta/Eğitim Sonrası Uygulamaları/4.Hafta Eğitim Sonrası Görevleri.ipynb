{
 "cells": [
  {
   "cell_type": "markdown",
   "metadata": {},
   "source": [
    "# Problem 1\n",
    "`ogrenciler` adında bir sözlük oluşturunuz. Kullanıcıdan döngü yardımıyla 3 öğrenci için veri girmesini isteyerek öğrencilerin sırasıyla okul numarası, isim, soy isim, telefon numarası ve doğum tarihi bilgilerini alınız. Aldığınız öğrenci bilgilerini yine aynı döngü yardımıyla `ogrenciler` adındaki sözlükte saklayınız. Daha sonra öğrenci bilgilerinin bulunduğu sözlük yapısını ekrana bastırınız.\n",
    "\n"
   ]
  },
  {
   "cell_type": "code",
   "execution_count": 8,
   "metadata": {},
   "outputs": [
    {
     "name": "stdout",
     "output_type": "stream",
     "text": [
      "{1: {'Okul numarası': '123', 'İsim': 'Aleyna', 'Soy isim': 'Eser', 'Telefon': '0556 678 89 90', 'Doğum tarihi': '2002'}, 2: {'Okul numarası': '345', 'İsim': 'Şule', 'Soy isim': 'Erkılıç', 'Telefon': '0545 789 12 67', 'Doğum tarihi': '2003'}, 3: {'Okul numarası': '456', 'İsim': 'Ahmet', 'Soy isim': 'Yılmaz', 'Telefon': '0578 900 76 56', 'Doğum tarihi': '2001'}}\n"
     ]
    }
   ],
   "source": [
    "ogrenciler = {}\n",
    "for i in range(1,4):\n",
    "    okulNumarası = input(\"Okul numaranızı giriniz: \")\n",
    "    isim = input(\"İsminizi giriniz: \")\n",
    "    soyIsim = input(\"Soy isminizi giriniz: \")\n",
    "    telefon = input(\"Telefon numaranızı giriniz: \")\n",
    "    dogumTarihi = input(\"Doğum tarihinizi giriniz: \")\n",
    "    ogrenciler[i] = {\n",
    "        \"Okul numarası\" : okulNumarası,\n",
    "        \"İsim\" : isim,\n",
    "        \"Soy isim\" : soyIsim,\n",
    "        \"Telefon\" : telefon,\n",
    "        \"Doğum tarihi\" : dogumTarihi\n",
    "    }\n",
    "print(ogrenciler)"
   ]
  },
  {
   "cell_type": "markdown",
   "metadata": {},
   "source": [
    "# Problem 2\n",
    "\n",
    "### a - Biraz ısınarak başlayalım!\n",
    "\n",
    "```\n",
    "numbers = [5,10,10,15,15,15,20,20,20,20]\n",
    "```\n",
    "\n",
    "Yukarıda `numbers` adında 10 elemanlı bir liste verilmiştir. Bu listenin her elemanını kontrol eden ve tekrar eden elemanları bir kez olacak şekilde başka bir listeye kopyalayan bir program yazınız. Son olarak oluşturduğunuz listeyi ekrana bastırınız.\n",
    "\n",
    "\n",
    "\n",
    "\n",
    "```\n",
    ">Output\n",
    "[5, 10, 15, 20]\n",
    "```\n"
   ]
  },
  {
   "cell_type": "code",
   "execution_count": 10,
   "metadata": {},
   "outputs": [
    {
     "name": "stdout",
     "output_type": "stream",
     "text": [
      "[5, 10, 15, 20]\n"
     ]
    }
   ],
   "source": [
    "numbers = [5,10,10,15,15,15,20,20,20,20]\n",
    "numbers2 = []\n",
    "for i in numbers:\n",
    "    if i in numbers2:\n",
    "        continue\n",
    "    else:\n",
    "        numbers2.append(i)\n",
    "print(numbers2)"
   ]
  },
  {
   "cell_type": "markdown",
   "metadata": {},
   "source": [
    "### 🌶️ b) Hadi işi biraz daha zorlaştıralım! \n",
    "\n",
    "\n",
    "Şimdiyse senden `numbers` isimli listedeki tekrar eden elemanları `repeatNumbers` adındaki listeye; tekrar etmeyen elemanları `uniqueNumbers`adındaki listeye kopyalayan yazmanı ve listeleri ekrana bastırmanı bekliyoruz\n",
    "\n",
    "```\n",
    ">Output\n",
    "Tekrar Eden Elemanlar: [10, 10, 15, 15, 15, 20, 20, 20, 20]\n",
    "Tekrar Etmeyen Elemanlar: [5]\n",
    "```"
   ]
  },
  {
   "cell_type": "code",
   "execution_count": 11,
   "metadata": {},
   "outputs": [
    {
     "name": "stdout",
     "output_type": "stream",
     "text": [
      "Tekrar Eden Elemanlar: [10, 10, 15, 15, 15, 20, 20, 20, 20]\n",
      "Tekrar Etmeyen Elemanlar: [5]\n"
     ]
    }
   ],
   "source": [
    "numbers = [5,10,10,15,15,15,20,20,20,20]\n",
    "repeatNumbers = []\n",
    "uniqueNumbers = []\n",
    "for i in numbers:\n",
    "    if numbers.count(i) ==1 :\n",
    "        uniqueNumbers.append(i)\n",
    "    else:\n",
    "        repeatNumbers.append(i)\n",
    "print(f\"Tekrar Eden Elemanlar: {repeatNumbers}\")\n",
    "print(f\"Tekrar Etmeyen Elemanlar: {uniqueNumbers}\")"
   ]
  },
  {
   "cell_type": "markdown",
   "metadata": {},
   "source": [
    "# Problem 3\n",
    "sn1 = {1,2,3,4,5}\n",
    "\n",
    "sn2 = {4,5,6,7,8}\n",
    "\n",
    " Verilen 2 adet küme için kesişimlerini, farklarını ve birleşimlerini bulunuz. "
   ]
  },
  {
   "cell_type": "code",
   "execution_count": 11,
   "metadata": {},
   "outputs": [
    {
     "name": "stdout",
     "output_type": "stream",
     "text": [
      "Kesişimleri: {4, 5}\n",
      "Farkları1: {1, 2, 3}\n",
      "Farkları2: {8, 6, 7}\n",
      "Birleşimleri: {1, 2, 3, 4, 5, 6, 7, 8}\n"
     ]
    }
   ],
   "source": [
    "sn1 = {1,2,3,4,5}\n",
    "sn2 = {4,5,6,7,8}\n",
    "print(\"Kesişimleri:\" , sn1.intersection(sn2))\n",
    "print(\"Farkları1:\" , sn1.difference(sn2))\n",
    "print(\"Farkları2:\" , sn2.difference(sn1))\n",
    "print(\"Birleşimleri:\" , sn1.union(sn2))\n"
   ]
  },
  {
   "cell_type": "markdown",
   "metadata": {},
   "source": [
    "# Problem 4\n",
    "\n",
    "Buradaki işlemlerimizin tamamı stringler içindir. Aşağıda verilecek olan metodlar için kendinizin örnek yaratması gerekmektedir. \n",
    "\n",
    "Örneğin `upper` için `string` değişkeni oluştururken` k = \"BAC\"` şeklinde oluşturmayınız. Bunun yerine k değişkenini `k = \"bac`\" şeklinde oluşturmanız `upper` metodundaki değişimi görebilmeniz için daha iyi olacaktır.\n",
    "\n",
    "Bütün metodlardaki değişimin gözle görülür şekilde değişimi beklenmektedir.\n",
    "\n",
    "\n",
    "1- capitalize(), lower(), upper(), swapcase(), title(), replace()\n",
    "\n",
    "2- endswith(), startswith(), find(), index(), count()\n",
    "\n",
    "3- split(), strip(), join(), islower(), isalpha(), isdigit()\n",
    "\n",
    "\n",
    "Yukarıdaki `string` metodlarındaki değişimleri görebildiğimiz bir program yazınız.\n"
   ]
  },
  {
   "cell_type": "code",
   "execution_count": 28,
   "metadata": {},
   "outputs": [
    {
     "name": "stdout",
     "output_type": "stream",
     "text": [
      "Yetgen core python\n",
      "yetgen core python\n",
      "YETGEN CORE PYTHON\n",
      "yETgEN cORE pYTHON\n",
      "Yetgen Core Python\n",
      "YetGen Jump Python\n",
      "True\n",
      "True\n",
      "7\n",
      "12\n",
      "2\n",
      "['YetGen', 'Core', 'Python']\n",
      "YetGen Core Python\n",
      "YetGen+Core+Python\n",
      "False\n",
      "False\n",
      "False\n"
     ]
    }
   ],
   "source": [
    "k = \"YetGen Core Python\"\n",
    "#1\n",
    "print(k.capitalize())\n",
    "print(k.lower())\n",
    "print(k.upper())\n",
    "print(k.swapcase())\n",
    "print(k.title())\n",
    "print(k.replace(\"Core\",\"Jump\"))\n",
    "\n",
    "#2\n",
    "print(k.endswith(\"Python\"))\n",
    "print(k.startswith(\"YetGen\"))\n",
    "print(k.find(\"Core\"))\n",
    "print(k.index(\"P\"))\n",
    "print(k.count(\"o\"))\n",
    "\n",
    "#3\n",
    "print(k.split(\" \"))\n",
    "m = \"        YetGen Core Python        \"\n",
    "print(m.strip())\n",
    "n = (\"YetGen\",\"Core\",\"Python\")\n",
    "print(\"+\".join(n))\n",
    "print(k.islower())\n",
    "print(k.isalpha())\n",
    "print(k.isdigit())"
   ]
  }
 ],
 "metadata": {
  "kernelspec": {
   "display_name": "Python 3.10.5 64-bit",
   "language": "python",
   "name": "python3"
  },
  "language_info": {
   "codemirror_mode": {
    "name": "ipython",
    "version": 3
   },
   "file_extension": ".py",
   "mimetype": "text/x-python",
   "name": "python",
   "nbconvert_exporter": "python",
   "pygments_lexer": "ipython3",
   "version": "3.12.3"
  },
  "orig_nbformat": 4,
  "vscode": {
   "interpreter": {
    "hash": "5026d2d6e7aaaaba093def813beadff083d8733e4a511af01735cbabd156995d"
   }
  }
 },
 "nbformat": 4,
 "nbformat_minor": 2
}
